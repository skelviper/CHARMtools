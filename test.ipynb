{
 "cells": [
  {
   "cell_type": "code",
   "execution_count": 57,
   "metadata": {},
   "outputs": [
    {
     "data": {
      "text/plain": [
       "<module 'CHARMio' from '/shareb/zliu/analysis/CHARMtools/CHARMio.py'>"
      ]
     },
     "execution_count": 57,
     "metadata": {},
     "output_type": "execute_result"
    }
   ],
   "source": [
    "import pandas as pd\n",
    "import numpy as np\n",
    "import CHARMio\n",
    "import imp\n",
    "imp.reload(CHARMio)"
   ]
  },
  {
   "cell_type": "code",
   "execution_count": 36,
   "metadata": {},
   "outputs": [],
   "source": [
    "tdgpath = \"/shareb/zliu/analysis/CHARM/CHARM_mesc/Rawdataprocess/hic/processed/R5Ac011/3d_info/50k.1.3dg\"\n",
    "tdg = CHARMio.parse_3dg(tdgpath,sorting=False,s2m=True)"
   ]
  },
  {
   "cell_type": "code",
   "execution_count": 69,
   "metadata": {},
   "outputs": [],
   "source": [
    "def calculate_resolution(df: pd.DataFrame) -> int:\n",
    "    \"\"\"\n",
    "    Calculate the resolution of a DataFrame with a MultiIndex (chr, pos).\n",
    "    Resolution is defined as the smallest non-zero difference between the 'pos' values for each 'chr'.\n",
    "    Args:\n",
    "        df: A pandas DataFrame with a MultiIndex where the first level is 'chr' and the second level is 'pos'.\n",
    "    Returns:\n",
    "        The resolution as an integer.\n",
    "    \"\"\"\n",
    "    # Initialize a large number to find the minimum resolution\n",
    "    min_resolution = float('inf')\n",
    "\n",
    "    # Group by the chromosome level of the index\n",
    "    for chromosome, group in df.groupby(level=0):\n",
    "        # Calculate differences between adjacent positions\n",
    "        pos_diffs = group.index.get_level_values(1).to_series().diff().dropna()\n",
    "\n",
    "        # Exclude zero differences and find the minimum\n",
    "        non_zero_diffs = pos_diffs[pos_diffs != 0]\n",
    "        if not non_zero_diffs.empty:\n",
    "            chrom_min_res = non_zero_diffs.min()\n",
    "            # Update overall minimum resolution if this chromosome's min is smaller\n",
    "            min_resolution = min(min_resolution, chrom_min_res)\n",
    "\n",
    "    # If min_resolution is still infinity, there were no non-zero resolutions found\n",
    "    if min_resolution == float('inf'):\n",
    "        raise ValueError(\"No non-zero position differences found in the DataFrame.\")\n",
    "\n",
    "    return int(min_resolution)\n",
    "\n",
    "# 假设 df 是您的 DataFrame\n",
    "# 调用此功能并传入 df\n",
    "# resolution = calculate_resolution(df)\n",
    "# print(resolution)"
   ]
  },
  {
   "cell_type": "code",
   "execution_count": 71,
   "metadata": {},
   "outputs": [
    {
     "data": {
      "text/plain": [
       "50000"
      ]
     },
     "execution_count": 71,
     "metadata": {},
     "output_type": "execute_result"
    }
   ],
   "source": [
    "calculate_resolution(tdg)"
   ]
  },
  {
   "cell_type": "code",
   "execution_count": 62,
   "metadata": {},
   "outputs": [
    {
     "ename": "TypeError",
     "evalue": "minimum() takes from 2 to 3 positional arguments but 1 were given",
     "output_type": "error",
     "traceback": [
      "\u001b[0;31m---------------------------------------------------------------------------\u001b[0m",
      "\u001b[0;31mTypeError\u001b[0m                                 Traceback (most recent call last)",
      "Cell \u001b[0;32mIn[62], line 4\u001b[0m\n\u001b[1;32m      2\u001b[0m vec \u001b[38;5;241m=\u001b[39m tdg\u001b[38;5;241m.\u001b[39mindex\u001b[38;5;241m.\u001b[39mget_level_values(\u001b[38;5;241m1\u001b[39m)\u001b[38;5;241m.\u001b[39mvalues\n\u001b[1;32m      3\u001b[0m \u001b[38;5;66;03m# get min value of one by one value\u001b[39;00m\n\u001b[0;32m----> 4\u001b[0m min_adjacent_values \u001b[38;5;241m=\u001b[39m \u001b[43mnp\u001b[49m\u001b[38;5;241;43m.\u001b[39;49m\u001b[43mminimum\u001b[49m\u001b[43m(\u001b[49m\u001b[43mvec\u001b[49m\u001b[43m[\u001b[49m\u001b[43m:\u001b[49m\u001b[38;5;241;43m-\u001b[39;49m\u001b[38;5;241;43m1\u001b[39;49m\u001b[43m]\u001b[49m\u001b[38;5;241;43m-\u001b[39;49m\u001b[43mvec\u001b[49m\u001b[43m[\u001b[49m\u001b[38;5;241;43m1\u001b[39;49m\u001b[43m:\u001b[49m\u001b[43m]\u001b[49m\u001b[43m)\u001b[49m\n",
      "\u001b[0;31mTypeError\u001b[0m: minimum() takes from 2 to 3 positional arguments but 1 were given"
     ]
    }
   ],
   "source": [
    "# print pandas version \n",
    "vec = tdg.index.get_level_values(1).values\n",
    "# get min value of one by one value\n",
    "min_adjacent_values = np.minimum(vec[:-1]-vec[1:])\n",
    "#print(min_adjacent_values)"
   ]
  },
  {
   "cell_type": "code",
   "execution_count": 63,
   "metadata": {},
   "outputs": [
    {
     "data": {
      "text/plain": [
       "array([    25000,     75000,    125000, ..., 170875000, 170925000,\n",
       "       170975000])"
      ]
     },
     "execution_count": 63,
     "metadata": {},
     "output_type": "execute_result"
    }
   ],
   "source": [
    "vec[:-1]"
   ]
  },
  {
   "cell_type": "code",
   "execution_count": 67,
   "metadata": {},
   "outputs": [
    {
     "data": {
      "text/plain": [
       "array([-50000, -50000, -50000, ..., -50000, -50000, -50000])"
      ]
     },
     "execution_count": 67,
     "metadata": {},
     "output_type": "execute_result"
    }
   ],
   "source": [
    "vec[1:][:len(vec[:-1])] - vec[:-1]"
   ]
  },
  {
   "cell_type": "code",
   "execution_count": 41,
   "metadata": {},
   "outputs": [],
   "source": [
    "def check_index_binsize(s: pd.DataFrame) -> int:\n",
    "    \"\"\"\n",
    "    Check if the index of s, considering its first level grouping, has sorted and consistent binsizes.\n",
    "    \n",
    "    The function assumes that the second level of the MultiIndex is numerical (e.g., genomic coordinates or timestamps).\n",
    "    It calculates the binsize for each group defined by the first level and returns a series with the binsizes.\n",
    "    If any inconsistency in binsize within a group is found, raises ValueError.\n",
    "    Input:\n",
    "        s: A pandas DataFrame with a MultiIndex where the first level represents chromosome names and the second level\n",
    "              represents positions or other values that should have a consistent difference (binsize).\n",
    "    Output:\n",
    "        binsize\n",
    "    \"\"\"\n",
    "\n",
    "    # Ensure the index is sorted\n",
    "    s = s.sort_index()\n",
    "    # Calculate binsizes per group based on the first level\n",
    "    # last 2 element is not used, because the last one is NaN and in some situations the second last one is partial binsize\n",
    "    # negative period is used to ensure first element is not NaN\n",
    "    result_dfs = []\n",
    "    for name, group in s.groupby(level=0):\n",
    "        new_df = pd.Series(\n",
    "            -group.index.get_level_values(1).diff(-1),\n",
    "            index = group.index\n",
    "            ).rename(\"binsizes\").iloc[:-2]\n",
    "        result_dfs.append(new_df)\n",
    "    binsizes = pd.concat(result_dfs, axis=0).dropna().astype(int)\n",
    "    print(binsizes)\n",
    "    if binsizes.empty:\n",
    "        print(\"Warning: No binsize found.\")\n",
    "        # just use the first binsize\n",
    "        binsize = -s.index.get_level_values(1).diff()[0]\n",
    "        #print(binsize)\n",
    "    elif len(binsizes.unique()) > 1:\n",
    "        print(\"Warning: Inconsistent binsizes found in the input file %s\" % binsizes.unique())\n",
    "        binsize = binsizes.dropna().unique()[0]\n",
    "        print(binsizes)\n",
    "    else:\n",
    "        binsize = binsizes.dropna().unique()[0]\n",
    "    return binsize"
   ]
  },
  {
   "cell_type": "code",
   "execution_count": 39,
   "metadata": {},
   "outputs": [
    {
     "data": {
      "text/plain": [
       "50000"
      ]
     },
     "execution_count": 39,
     "metadata": {},
     "output_type": "execute_result"
    }
   ],
   "source": [
    "check_index_binsize(tdg)"
   ]
  }
 ],
 "metadata": {
  "kernelspec": {
   "display_name": "Hi-C",
   "language": "python",
   "name": "hic"
  },
  "language_info": {
   "codemirror_mode": {
    "name": "ipython",
    "version": 3
   },
   "file_extension": ".py",
   "mimetype": "text/x-python",
   "name": "python",
   "nbconvert_exporter": "python",
   "pygments_lexer": "ipython3",
   "version": "3.10.13"
  },
  "orig_nbformat": 4,
  "vscode": {
   "interpreter": {
    "hash": "644476859734f9a06a44271925db4b71b460672dce71d1af3cb8b5924b1a2d95"
   }
  }
 },
 "nbformat": 4,
 "nbformat_minor": 2
}
